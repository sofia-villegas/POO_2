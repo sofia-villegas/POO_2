{
  "nbformat": 4,
  "nbformat_minor": 0,
  "metadata": {
    "colab": {
      "provenance": []
    },
    "kernelspec": {
      "name": "python3",
      "display_name": "Python 3"
    },
    "language_info": {
      "name": "python"
    }
  },
  "cells": [
    {
      "cell_type": "markdown",
      "source": [
        "#Introducción\n",
        "###¿Qué es SQL?\n",
        "El lenguaje de consulta estructurada (SQL) es un lenguaje de programación para almacenar y procesar información en una base de datos relacional.\n",
        "\n",
        "[fuente](https://aws.amazon.com/es/what-is/sql/)\n",
        "\n",
        "###¿Por qué es importante?\n",
        "\n",
        "El lenguaje de consulta estructurada (SQL) es un lenguaje de consulta popular que se usa con frecuencia en todos los tipos de aplicaciones. Los analistas y desarrolladores de datos aprenden y usan SQL porque se integra bien con los diferentes lenguajes de programación.\n",
        "\n",
        "[fuente](https://aws.amazon.com/es/what-is/sql/)\n",
        "\n",
        "###¿Qué aplicaciones puede tener en ingeniería?\n",
        "\n",
        "*   Gestión de inventarios: control de stock, seguimiento en tiempo real, tendencias de demanda\n",
        "*   Análisis de procesos / optimización\n",
        "*   Programación de la producción\n",
        "*   Control de calidad\n",
        "*   Logística y cadena de suministro\n",
        "*   Mantenimiento programas preventivos\n",
        "\n",
        "###¿Qué librerías hay para trabajar SQL en Google Colab?\n",
        "\n",
        "\n",
        "*   SQLAlchemy: https://docs.sqlalchemy.org/\n",
        "*   psycopg2: https://wiki.postgresql.org/wiki/Main_Page\n",
        "*   PyMongo: https://pymongo.readthedocs.io/\n",
        "*   redis-py: https://redis-py.readthedocs.io/\n",
        "\n",
        "\n",
        "\n",
        "\n",
        "\n"
      ],
      "metadata": {
        "id": "p1z0uglF5VZP"
      }
    },
    {
      "cell_type": "code",
      "source": [
        "import sqlite3 #importamos librería SQLite3"
      ],
      "metadata": {
        "id": "7ynQ4ScM8w9Z"
      },
      "execution_count": null,
      "outputs": []
    },
    {
      "cell_type": "markdown",
      "source": [
        "MySQL necesita conexiones e instalaciones; el benchmark es el mejor de todos los \"Queries\". La ventaja de trabajar con sqlite; es que se puede crear bases de datos por default, mientras que en MySQL es necesario crear la base de datos."
      ],
      "metadata": {
        "id": "2-XIx24d9HC2"
      }
    },
    {
      "cell_type": "markdown",
      "source": [
        "\n",
        "**Crearemos una base de datos**\n",
        "\n",
        "\n",
        "Nuestra base de datos consistirá de libros."
      ],
      "metadata": {
        "id": "sssPHcKL-1HD"
      }
    },
    {
      "cell_type": "code",
      "source": [
        "# para crear la bas de datos, debemos conevtar con el servidor SQL\n",
        "\n",
        "con =sqlite3.connect(\"libros1_db.sqlite\")"
      ],
      "metadata": {
        "id": "S4YWlySz_Etc"
      },
      "execution_count": null,
      "outputs": []
    },
    {
      "cell_type": "markdown",
      "source": [
        "Ahora vamos a diseñar nustra **tabla**."
      ],
      "metadata": {
        "id": "zB_UuhueAeYp"
      }
    },
    {
      "cell_type": "code",
      "source": [
        "# Crearemos un cursor\n",
        "cursor = con.cursor()\n",
        "\n",
        "# Ejecutaremos los datos para la tabla\n",
        "cursor.execute('''\n",
        "CREATE TABLE libros1 (\n",
        "  id INTEGER PRIMARY KEY,\n",
        "  titulo TEXT NOT NULL,\n",
        "  autor TEXT NOT NULL,\n",
        "  año INTEGER\n",
        ")\n",
        "''')\n",
        "\n",
        "\n",
        "\n"
      ],
      "metadata": {
        "id": "_LZbeBUQAjW5",
        "colab": {
          "base_uri": "https://localhost:8080/"
        },
        "outputId": "47b928ba-f567-4f80-bd9a-a267bf65113e"
      },
      "execution_count": null,
      "outputs": [
        {
          "output_type": "execute_result",
          "data": {
            "text/plain": [
              "<sqlite3.Cursor at 0x7d8e32b67340>"
            ]
          },
          "metadata": {},
          "execution_count": 4
        }
      ]
    },
    {
      "cell_type": "code",
      "source": [
        "libros1_datos = [(\"Harry Potter\", \"J.K.R.\",1997),\n",
        "                 (\"The Hobbit\",\"Tolkien\",1937),\n",
        "                 (\"Better than the movies\", \"Lynn Painter\",2021),\n",
        "                 (\"La Sombra del Viento\",\"Carlos Ruiz Zafín\",2001)]"
      ],
      "metadata": {
        "id": "kvAhDMYUEaW8"
      },
      "execution_count": null,
      "outputs": []
    },
    {
      "cell_type": "code",
      "source": [
        "cursor.executemany(\"\"\"\n",
        "INSERT INTO libros1 (titulo, autor, año) VALUES (?,?,?)\"\"\", libros1_datos)\n",
        "con.commit()"
      ],
      "metadata": {
        "id": "2n8xsqonHLeY"
      },
      "execution_count": null,
      "outputs": []
    },
    {
      "cell_type": "code",
      "source": [
        "cursor.execute(\"SELECT * FROM libros\")\n",
        "libros1 = cursor.fetchall()\n",
        "for libro in libros1:\n",
        "  print(libros1)"
      ],
      "metadata": {
        "id": "64OxYOT1Hwxw"
      },
      "execution_count": null,
      "outputs": []
    }
  ]
}